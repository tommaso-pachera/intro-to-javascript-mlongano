{
 "cells": [
  {
   "cell_type": "markdown",
   "metadata": {},
   "source": [
    "# Esempio di come si comportano i dati primitivi"
   ]
  },
  {
   "cell_type": "code",
   "execution_count": 1,
   "metadata": {},
   "outputs": [
    {
     "name": "stdout",
     "output_type": "stream",
     "text": [
      "30\n",
      "31\n",
      "\n",
      "tommaso\n",
      "tom\n"
     ]
    }
   ],
   "source": [
    "{                                           //creo lo scope \n",
    "    let age = 3;\n",
    "    let age1 = age;                         // viene creata una copia di age\n",
    "    age = 4;                                \n",
    "    console.log(age1);                      //stampo\n",
    "    console.log(age);\n",
    "\n",
    "    console.log();\n",
    "\n",
    "    let immutable = \"tommaso\";                \n",
    "    let copy = immutable.slice(0, 3);       // copio la variabile immutable solo dalla cifra 0 alla 4\n",
    "    console.log(immutable);                 // stampo\n",
    "    console.log(copy);\n",
    "}"
   ]
  },
  {
   "cell_type": "code",
   "execution_count": 2,
   "metadata": {},
   "outputs": [
    {
     "name": "stdout",
     "output_type": "stream",
     "text": [
      "[ 1, 2, 3, 4 ]\n",
      "[ 1, 2, 3, 4 ]\n",
      "[ 4, 3, 2, 1 ]\n",
      "[ 4, 3, 2, 1 ]\n"
     ]
    }
   ],
   "source": [
    "{\n",
    "    // Compara con i tipi di riferimento\n",
    "    let mutable = [1, 2, 3]; // Memorizzato sullo heap\n",
    "    let mutableCopy = mutable; // mutableCopy punta allo stesso oggetto\n",
    "    mutableCopy.push(4); // Modificare mutableCopy modifica mutable\n",
    "    \n",
    "    console.log(mutable); // [1, 2, 3, 4]\n",
    "    console.log(mutableCopy); // [1, 2, 3, 4]\n",
    "    mutable.sort((a, b) => b - a); // Modificare mutable modifica mutableCopy\n",
    "    console.log(mutable); // [4, 3, 2, 1]\n",
    "        console.log(mutableCopy);\n",
    "}"
   ]
  },
  {
   "cell_type": "code",
   "execution_count": 3,
   "metadata": {},
   "outputs": [
    {
     "name": "stdout",
     "output_type": "stream",
     "text": [
      "0.30000000000000004\n",
      "false\n"
     ]
    }
   ],
   "source": [
    "console.log(0.1 + 0.2); // Risultato atteso: 0.3\n",
    "console.log(0.1 + 0.2 === 0.3); // False"
   ]
  },
  {
   "cell_type": "code",
   "execution_count": 4,
   "metadata": {},
   "outputs": [
    {
     "name": "stdout",
     "output_type": "stream",
     "text": [
      "true\n"
     ]
    }
   ],
   "source": [
    "let result; // Esempio di arrotondamento con Math.round()\n",
    "result = 0.1 + 0.2;\n",
    "\n",
    "// Arrotondamento a 2 cifre decimali\n",
    "let roundedResult = Math.round(result * 100) / 100;\n",
    "console.log(roundedResult === 0.3); // Output: true"
   ]
  },
  {
   "cell_type": "code",
   "execution_count": 5,
   "metadata": {},
   "outputs": [
    {
     "name": "stdout",
     "output_type": "stream",
     "text": [
      "HELLO, WORLD!\n",
      "HELLO, WORLD!\n",
      "123.46\n",
      "123.46\n",
      "true\n",
      "true\n"
     ]
    }
   ],
   "source": [
    "let myString = \"Hello, world!\";\n",
    "console.log(myString.toUpperCase()); // \"HELLO, WORLD!\"\n",
    "// Dietro le quinte, JavaScript fa qualcosa di simile a:\n",
    "console.log(new String(myString).toUpperCase());\n",
    "let myNumber = 123.456;\n",
    "console.log(myNumber.toFixed(2)); // \"123.46\"\n",
    "// Dietro le quinte, JavaScript fa qualcosa di simile a:\n",
    "console.log(new Number(myNumber).toFixed(2));\n",
    "let myBool = true;\n",
    "console.log(myBool.toString()); // \"true\"\n",
    "// Dietro le quinte, JavaScript fa qualcosa di simile a:\n",
    "console.log(new Boolean(myBool).toString());"
   ]
  },
  {
   "cell_type": "code",
   "execution_count": 2,
   "metadata": {},
   "outputs": [
    {
     "name": "stdout",
     "output_type": "stream",
     "text": [
      "0\n",
      "1\n"
     ]
    }
   ],
   "source": [
    "function creaContatore(){\n",
    "   let contatore = 0;\n",
    "   return function(){\n",
    "      return contatore++;\n",
    "   };\n",
    "}\n",
    "\n",
    "const contatore = creaContatore();\n",
    "\n",
    "console.log(contatore()); //Output 0\n",
    "console.log(contatore()); //Output 1"
   ]
  },
  {
   "cell_type": "code",
   "execution_count": 2,
   "metadata": {},
   "outputs": [
    {
     "name": "stdout",
     "output_type": "stream",
     "text": [
      "24000\n",
      "2880\n",
      "2\n"
     ]
    }
   ],
   "source": [
    "let numbers = [1, 2, 3, 4, 5];\n",
    "\n",
    "function multiplyTs(...args: number[]) {\n",
    "    return args.reduce((a, b) => a * b); \n",
    "}\n",
    "\n",
    "function multiplyJs() {\n",
    "    return [...arguments].reduce((a, b) => a * b);\n",
    "}\n",
    "\n",
    "\n",
    "let numbersExtended = [...numbers, 2, 3, 4];\n",
    "console.log(multiplyTs(...numbers, 10, 20)); //Output 24000\n",
    "console.log(multiplyJs(...numbersExtended)); //Output 2880\n",
    "console.log(multiplyJs(2, 1, 1));   //Output 2"
   ]
  },
  {
   "cell_type": "code",
   "execution_count": 3,
   "metadata": {},
   "outputs": [
    {
     "name": "stdout",
     "output_type": "stream",
     "text": [
      "[Arguments] { \"0\": 1, \"1\": 2, \"2\": 3, \"3\": 4 }\n",
      "4\n"
     ]
    }
   ],
   "source": [
    "function esempioArgomrnti() {\n",
    "    console.log(arguments);\n",
    "    console.log(arguments.length);\n",
    "}\n",
    "esempioArgomrnti(1, 2, 3, 4);"
   ]
  }
 ],
 "metadata": {
  "kernelspec": {
   "display_name": "Deno",
   "language": "typescript",
   "name": "deno"
  },
  "language_info": {
   "file_extension": ".ts",
   "mimetype": "text/x.typescript",
   "name": "typescript",
   "nb_converter": "script",
   "pygments_lexer": "typescript",
   "version": "5.3.3"
  }
 },
 "nbformat": 4,
 "nbformat_minor": 4
}
