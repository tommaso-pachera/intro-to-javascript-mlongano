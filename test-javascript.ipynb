{
 "cells": [
  {
   "cell_type": "markdown",
   "metadata": {},
   "source": [
    "# Esempio di come si comportano i dati primitivi"
   ]
  },
  {
   "cell_type": "code",
   "execution_count": 1,
   "metadata": {},
   "outputs": [
    {
     "name": "stdout",
     "output_type": "stream",
     "text": [
      "30\n",
      "31\n",
      "\n",
      "tommaso\n",
      "tom\n"
     ]
    }
   ],
   "source": [
    "{                                           //creo lo scope \n",
    "    let age = 3;\n",
    "    let age1 = age;                         // viene creata una copia di age\n",
    "    age = 4;                                \n",
    "    console.log(age1);                      //stampo\n",
    "    console.log(age);\n",
    "\n",
    "    console.log();\n",
    "\n",
    "    let immutable = \"tommaso\";                \n",
    "    let copy = immutable.slice(0, 3);       // copio la variabile immutable solo dalla cifra 0 alla 4\n",
    "    console.log(immutable);                 // stampo\n",
    "    console.log(copy);\n",
    "}"
   ]
  }
 ],
 "metadata": {
  "kernelspec": {
   "display_name": "Deno",
   "language": "typescript",
   "name": "deno"
  },
  "language_info": {
   "file_extension": ".ts",
   "mimetype": "text/x.typescript",
   "name": "typescript",
   "nb_converter": "script",
   "pygments_lexer": "typescript",
   "version": "5.3.3"
  }
 },
 "nbformat": 4,
 "nbformat_minor": 4
}
